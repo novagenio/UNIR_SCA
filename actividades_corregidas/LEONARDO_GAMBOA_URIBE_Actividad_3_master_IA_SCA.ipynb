{
  "nbformat": 4,
  "nbformat_minor": 0,
  "metadata": {
    "colab": {
      "name": "LEONARDO_GAMBOA_URIBE_Actividad_3_master_IA_SCA.ipynb",
      "provenance": [],
      "collapsed_sections": []
    },
    "kernelspec": {
      "display_name": "Python 3 (system-wide)",
      "language": "python",
      "metadata": {
        "cocalc": {
          "description": "Python 3 programming language",
          "priority": 100,
          "url": "https://www.python.org/"
        }
      },
      "name": "python3"
    },
    "language_info": {
      "codemirror_mode": {
        "name": "ipython",
        "version": 3
      },
      "file_extension": ".py",
      "mimetype": "text/x-python",
      "name": "python",
      "nbconvert_exporter": "python",
      "pygments_lexer": "ipython3",
      "version": "3.8.5"
    },
    "accelerator": "GPU"
  },
  "cells": [
    {
      "cell_type": "markdown",
      "metadata": {
        "id": "3792M_s6EZ7W"
      },
      "source": [
        "## Integrantes del grupo"
      ]
    },
    {
      "cell_type": "markdown",
      "metadata": {
        "id": "rQ_JCwgXEbhu"
      },
      "source": [
        "*   Leonardo Gamboa Uribe\n",
        "*   Camilo Torrón Sosa\n",
        "*   Jesús María Herruzo Luque"
      ]
    },
    {
      "cell_type": "markdown",
      "metadata": {
        "collapsed": false,
        "id": "2yKYAEOUB70s"
      },
      "source": [
        "# Actividad 3: RNN y sus aplicaciones en las series temporales\n",
        "\n",
        "En esta actividad se va a aplicar el conocimiento adquirido sobre las RNN para entrenar modelos que sean capaces de predecir el comportamiento de las series temporales. Para ello, se usará un dataset de temperaturas para mediante la aplicación de RNN, predecir los valores futuros que tendrá la serie temporal que se tiene. Este trabajo se suele hacer mediante modelos ARIMA, pero en esta práctica se verá cómo el modelado mediante RNN es una opción muy buena en estos casos de series temporales."
      ]
    },
    {
      "cell_type": "markdown",
      "metadata": {
        "collapsed": false,
        "id": "IW24cRGrCrXZ"
      },
      "source": [
        "**1. Descargar el dataset y almacenarlo**\n",
        "\n",
        "En primer lugar hay que importar tensorflow."
      ]
    },
    {
      "cell_type": "code",
      "metadata": {
        "colab": {
          "base_uri": "https://localhost:8080/"
        },
        "id": "loO19CfCYC2V",
        "outputId": "fec2880c-5291-4485-e3cb-db6512d4d8e0"
      },
      "source": [
        "import tensorflow as tf\n",
        "print(tf.__version__)"
      ],
      "execution_count": 1,
      "outputs": [
        {
          "output_type": "stream",
          "text": [
            "2.5.0\n"
          ],
          "name": "stdout"
        }
      ]
    },
    {
      "cell_type": "markdown",
      "metadata": {
        "collapsed": false,
        "id": "0ZTs4Cd0C49G"
      },
      "source": [
        "El siguiente paso es importar las bibliotecas numpy y matplotlib. Además, se define el método **plot_series** que se utilizará para hacer las gráficas de las series temporales."
      ]
    },
    {
      "cell_type": "code",
      "metadata": {
        "id": "gLNhTOGEYDbQ"
      },
      "source": [
        "import numpy as np\n",
        "import matplotlib.pyplot as plt\n",
        "def plot_series(time, series, format=\"-\", start=0, end=None):\n",
        "    plt.plot(time[start:end], series[start:end], format)\n",
        "    plt.xlabel(\"Time\")\n",
        "    plt.ylabel(\"Value\")\n",
        "    plt.grid(True)"
      ],
      "execution_count": 2,
      "outputs": []
    },
    {
      "cell_type": "markdown",
      "metadata": {
        "collapsed": false,
        "id": "8jbJP279DJha"
      },
      "source": [
        "A continuación se descarga el dataset de las temperaturas mínimas diarias."
      ]
    },
    {
      "cell_type": "code",
      "metadata": {
        "id": "AsXBJEeqYFbn",
        "colab": {
          "base_uri": "https://localhost:8080/"
        },
        "outputId": "b15a9758-fe84-4c96-eb3f-e81e55b81038"
      },
      "source": [
        "!wget --no-check-certificate \\\n",
        "    https://raw.githubusercontent.com/jbrownlee/Datasets/master/daily-min-temperatures.csv \\\n",
        "    -O /tmp/daily-min-temperatures.csv"
      ],
      "execution_count": 3,
      "outputs": [
        {
          "output_type": "stream",
          "text": [
            "--2021-06-14 14:18:24--  https://raw.githubusercontent.com/jbrownlee/Datasets/master/daily-min-temperatures.csv\n",
            "Resolving raw.githubusercontent.com (raw.githubusercontent.com)... 185.199.108.133, 185.199.109.133, 185.199.110.133, ...\n",
            "Connecting to raw.githubusercontent.com (raw.githubusercontent.com)|185.199.108.133|:443... connected.\n",
            "HTTP request sent, awaiting response... 200 OK\n",
            "Length: 67921 (66K) [text/plain]\n",
            "Saving to: ‘/tmp/daily-min-temperatures.csv’\n",
            "\n",
            "/tmp/daily-min-temp 100%[===================>]  66.33K  --.-KB/s    in 0.001s  \n",
            "\n",
            "2021-06-14 14:18:25 (47.2 MB/s) - ‘/tmp/daily-min-temperatures.csv’ saved [67921/67921]\n",
            "\n"
          ],
          "name": "stdout"
        }
      ]
    },
    {
      "cell_type": "markdown",
      "metadata": {
        "collapsed": false,
        "id": "jufo30y2DOIS"
      },
      "source": [
        "En este paso, se utilizará la biblioteca csv de Python para guardar y poder leer el dataset de temperaturas mínimas diarias que ha sido descargado en el paso anterior. Además, se construye la variable **series** que será donde se guarde la serie temporal. Por último, siempre que se trate con una serie temporal, es una buena práctica hacer un gráfico para poder verla y tener una idea de cómo es."
      ]
    },
    {
      "cell_type": "code",
      "metadata": {
        "id": "bUBTwlu82nNE"
      },
      "source": [
        ""
      ],
      "execution_count": 3,
      "outputs": []
    },
    {
      "cell_type": "code",
      "metadata": {
        "id": "no85DGrbYHUM",
        "colab": {
          "base_uri": "https://localhost:8080/",
          "height": 388
        },
        "outputId": "e436f1fd-480e-48d1-cd11-e5441053300a"
      },
      "source": [
        "\n",
        "import csv\n",
        "time_step = []\n",
        "temps = []\n",
        "\n",
        "with open('/tmp/daily-min-temperatures.csv') as csvfile:\n",
        "  reader = csv.reader(csvfile, delimiter=',')\n",
        "  next(reader)\n",
        "  step=0\n",
        "  for row in reader:\n",
        "    temps.append(float(row[1]))\n",
        "    time_step.append(step)\n",
        "    step = step + 1\n",
        "\n",
        "series = np.array(temps)\n",
        "time = np.array(time_step)\n",
        "plt.figure(figsize=(10, 6))\n",
        "plot_series(time, series)"
      ],
      "execution_count": 4,
      "outputs": [
        {
          "output_type": "display_data",
          "data": {
            "image/png": "[encoded data removed]",
            "text/plain": [
              "<Figure size 720x432 with 1 Axes>"
            ]
          },
          "metadata": {
            "tags": [],
            "needs_background": "light"
          }
        }
      ]
    },
    {
      "cell_type": "markdown",
      "metadata": {
        "collapsed": false,
        "id": "kyejfTbWL5Km"
      },
      "source": [
        "# 2. Creación de las variables necesarias para el diseño de la red neuronal"
      ]
    },
    {
      "cell_type": "markdown",
      "metadata": {
        "collapsed": false,
        "id": "CtvcOIk1Dxod"
      },
      "source": [
        "Una técnica muy común cuando se trata con series temporales es utilizar una ventana temporal que se vaya desplazando sobre la serie temporal para reducir su análisis a lo que ocurre en ese ventana de forma local, para a continuación realizar el modelado global.\n",
        "\n",
        "**Ejercicio 1 (0.4 puntos)**: Crear las variables de entrenamiento y validación y hacer la partición de las mismas. Las variables que hay que crear son:\n",
        "\n",
        "*   time_train\n",
        "*   x_train\n",
        "*   time_valid\n",
        "*   x_valid\n",
        "\n",
        "\n",
        "\n"
      ]
    },
    {
      "cell_type": "code",
      "metadata": {
        "id": "IjiQ6hCWYI47"
      },
      "source": [
        "## variables para la técnica de la ventana temporal\n",
        "split_time = 2500\n",
        "window_size = 30\n",
        "batch_size = 32\n",
        "shuffle_buffer_size = 1000\n",
        "\n",
        "## Split del dataset en entrenamiento y validación\n",
        "## tu código para la creación de las 4 variables del ejercicio 1 aquí\n",
        "time_train = time[:split_time]\n",
        "time_valid = time[split_time:]\n",
        "\n",
        "x_train = series[:split_time]\n",
        "x_valid = series[split_time:]"
      ],
      "execution_count": 5,
      "outputs": []
    },
    {
      "cell_type": "markdown",
      "metadata": {
        "collapsed": false,
        "id": "qk5l4wEPFmDM"
      },
      "source": [
        "2. Creación del método **windowed_datset** para poder utilizarlo en el modelo. Las entradas por parámetros del método son:\n",
        "\n",
        "*   series\n",
        "*   window_size\n",
        "*   batch_size\n",
        "*   shuffle_buffer\n",
        "\n",
        "El resto de elementos que se usan para construir la función ventana temporal para explorar el dataset, son métodos de Python para tratar con series temporales.\n",
        "\n",
        "\n"
      ]
    },
    {
      "cell_type": "markdown",
      "metadata": {
        "collapsed": false,
        "id": "AxzoP0UXL_jP"
      },
      "source": [
        "# 3. Diseño de la función para predecir los siguientes valores de la serie temporal usando la técnica de la ventana temporal"
      ]
    },
    {
      "cell_type": "code",
      "metadata": {
        "id": "40vSdZ7pYK6S"
      },
      "source": [
        "def windowed_dataset(series, window_size, batch_size, shuffle_buffer):\n",
        "    series = tf.expand_dims(series, axis=-1)\n",
        "    ds = tf.data.Dataset.from_tensor_slices(series)\n",
        "    ds = ds.window(window_size + 1, shift=1, drop_remainder=True)\n",
        "    ds = ds.flat_map(lambda w: w.batch(window_size + 1))\n",
        "    ds = ds.shuffle(shuffle_buffer)\n",
        "    ds = ds.map(lambda w: (w[:-1], w[1:]))\n",
        "    return ds.batch(batch_size).prefetch(1)"
      ],
      "execution_count": 6,
      "outputs": []
    },
    {
      "cell_type": "markdown",
      "metadata": {
        "collapsed": false,
        "id": "TpTqdDfYGf_W"
      },
      "source": [
        "A continuación, y usando como modelo el método **windowed_dataset** se procederá a adaptar el método **model_forecast** que se usará para predecir los siguientes valores de la serie temporal utilizando la técnica de la ventana temporal.\n",
        "\n",
        "**Ejercicio 2 (1.6 puntos)**: completar el método model_forecast creando los elementos necesarios dentro del método:\n",
        "\n",
        "1.   Crear la variable **ds** y darle el valor resultante del método **from_tensor_slices** pasando por parametro **series** **(0.4 puntos)**\n",
        "2.   Actualizar la ventana (**window**) de la variable **ds** (nota: en este caso el tamaño es el mismo de la ventana, no es necesario que sea window_size+1) **(0.4 puntos)**\n",
        "3.   Crear el **flat_map** de la variable, teniendo en cuenta que el tamaño es **window_size** **(0.4 puntos)**\n",
        "4.   Añadir la siguiente linea de código: ds = ds.batch(32).prefetch(1)\n",
        "5.   Crear la variable **forecast** en la que se usará el método **predict** **(0.4 puntos)**\n",
        "6.   Por último, se devolverá la variable forecast.\n",
        "\n",
        "\n"
      ]
    },
    {
      "cell_type": "code",
      "metadata": {
        "id": "1eYlrylwYNqa"
      },
      "source": [
        "def model_forecast(model, series, window_size):\n",
        "  ## tu código para el método model_forecast del ejercicio 2 aquí\n",
        "  ds = tf.data.Dataset.from_tensor_slices(series)\n",
        "  ds = ds.window(window_size, shift=1, drop_remainder=True)\n",
        "  ds = ds.flat_map(lambda window: window.batch(window_size))\n",
        "  ds = ds.batch(32).prefetch(1)\n",
        "  forecast = model.predict(ds)\n",
        "  return forecast"
      ],
      "execution_count": 7,
      "outputs": []
    },
    {
      "cell_type": "markdown",
      "metadata": {
        "collapsed": false,
        "id": "SY2SZ_GsJBx4"
      },
      "source": [
        "A continuación, se limpia la sesión de keras, y se inicializan las variables necesarias para poder diseñar el modelo de series temporales a entrenar usando RNN."
      ]
    },
    {
      "cell_type": "code",
      "metadata": {
        "id": "DAUtfBB9JR2p"
      },
      "source": [
        "tf.keras.backend.clear_session()\n",
        "tf.random.set_seed(51)\n",
        "np.random.seed(51)\n",
        "window_size = 64\n",
        "batch_size = 256"
      ],
      "execution_count": 8,
      "outputs": []
    },
    {
      "cell_type": "markdown",
      "metadata": {
        "collapsed": false,
        "id": "4mOXrfFVMKRA"
      },
      "source": [
        "# 4. Diseño de la red neuronal"
      ]
    },
    {
      "cell_type": "markdown",
      "metadata": {
        "collapsed": false,
        "id": "T6YG9YclJk9n"
      },
      "source": [
        "**Ejercicio 3.1 (0.5 puntos)**: Hay que crear la variable **train_set** dandole el valor que se reciba del método **windowed_datset**, los parametros que debe recibir este método son: **x_train, window_size, batch_size, shuffle_buffer_size**"
      ]
    },
    {
      "cell_type": "code",
      "metadata": {
        "id": "iqgS7tu5JUc5"
      },
      "source": [
        "## tu código aquí para el ejercicio 3\n",
        "train_set = windowed_dataset(x_train, window_size, batch_size, shuffle_buffer_size)"
      ],
      "execution_count": 9,
      "outputs": []
    },
    {
      "cell_type": "markdown",
      "metadata": {
        "collapsed": false,
        "id": "SgrrsFHxKVWO"
      },
      "source": [
        "**Ejercicio 3.2 (4 puntos)**: Se debe construir la red neuronal de aprendizaje profunda basada para modelar la serie temporal de las temperaturas minimas diarias. Esta red neuronal debera contar con las siguientes capas ocultas:\n",
        "\n",
        "1.   Una capa de convolución en una dimensión que tenga 32 filtros, una tamaño del kernel de 5, un stride de 1, padding \"causal\", la función de activación debe ser relu y el input shape debe ser [None, 1] \n",
        "2.   Una capa LSTM con 64 neuronas y retorno de secuencias \n",
        "3.   Una capa LSTM con 64 neuronas y retorno de secuencias \n",
        "4.   Una capa densa con 30 neuronas\n",
        "5.   Una capa densa con 10 neuronas\n",
        "6.   Una capa densa con 1 neuronas\n",
        "7.   Por último, se añade la siguiente capa: tf.keras.layers.Lambda(lambda x: x * 400)\n",
        "\n",
        "\n"
      ]
    },
    {
      "cell_type": "code",
      "metadata": {
        "id": "yswRAtQ6JWvd",
        "colab": {
          "base_uri": "https://localhost:8080/"
        },
        "outputId": "46f6a7e7-1e5b-47f9-b182-2887e8bbe300"
      },
      "source": [
        "## tu código para la red neuronal del ejercicio 4 aquí\n",
        "def crear_red(num_filtros=32):\n",
        "  model = tf.keras.models.Sequential([\n",
        "    tf.keras.layers.Conv1D(num_filtros, kernel_size=5, strides=1, \n",
        "                           padding='causal', activation='relu', input_shape=[None,1]),\n",
        "    tf.keras.layers.LSTM(64, return_sequences=True),\n",
        "    tf.keras.layers.LSTM(64, return_sequences=True),\n",
        "    tf.keras.layers.Dense(30, activation='relu'), \n",
        "    tf.keras.layers.Dense(10, activation='relu'),\n",
        "    tf.keras.layers.Dense(1),\n",
        "    tf.keras.layers.Lambda(lambda x: x * 400.0)\n",
        "  ])\n",
        "  return model  \n",
        "\n",
        "model = crear_red()  \n",
        "model.summary()"
      ],
      "execution_count": 10,
      "outputs": [
        {
          "output_type": "stream",
          "text": [
            "Model: \"sequential\"\n",
            "_________________________________________________________________\n",
            "Layer (type)                 Output Shape              Param #   \n",
            "=================================================================\n",
            "conv1d (Conv1D)              (None, None, 32)          192       \n",
            "_________________________________________________________________\n",
            "lstm (LSTM)                  (None, None, 64)          24832     \n",
            "_________________________________________________________________\n",
            "lstm_1 (LSTM)                (None, None, 64)          33024     \n",
            "_________________________________________________________________\n",
            "dense (Dense)                (None, None, 30)          1950      \n",
            "_________________________________________________________________\n",
            "dense_1 (Dense)              (None, None, 10)          310       \n",
            "_________________________________________________________________\n",
            "dense_2 (Dense)              (None, None, 1)           11        \n",
            "_________________________________________________________________\n",
            "lambda (Lambda)              (None, None, 1)           0         \n",
            "=================================================================\n",
            "Total params: 60,319\n",
            "Trainable params: 60,319\n",
            "Non-trainable params: 0\n",
            "_________________________________________________________________\n"
          ],
          "name": "stdout"
        }
      ]
    },
    {
      "cell_type": "markdown",
      "metadata": {
        "collapsed": false,
        "id": "W3VhCNbVLyPj"
      },
      "source": [
        "# 5. Entrenamiento de la red neuronal"
      ]
    },
    {
      "cell_type": "markdown",
      "metadata": {
        "collapsed": false,
        "id": "IvaUY4TmMUpa"
      },
      "source": [
        "**Ejercicio 4 (0.5 puntos)**: Se va a diseñar un método callbacks para el learning rate que será guardado en la variable **lr_schedule**, este método deberá usar el método **LearningRateScheduler** de Python y será una función **lambda** que le de el valor a epoch de 1e-8 * 10**(epoch / 20) **texto en negrita** "
      ]
    },
    {
      "cell_type": "code",
      "metadata": {
        "id": "s8YmUm3WJZdm"
      },
      "source": [
        "## tu código para crear la variable lr_schedule aquí\n",
        "lr_schedule = tf.keras.callbacks.LearningRateScheduler(\n",
        "    lambda epoch: 1e-8*10**(epoch/20)\n",
        ")"
      ],
      "execution_count": 11,
      "outputs": []
    },
    {
      "cell_type": "markdown",
      "metadata": {
        "collapsed": false,
        "id": "g6xI_87qNgzg"
      },
      "source": [
        "**Ejercicio 5 (1.5 puntos):** Compilar la red neuronal con los siguientes parametros:\n",
        "\n",
        "*   loss: método Huber de keras\n",
        "*   El optimizador debe ser el SGD con learning rate 1e-8 y momentum 0.9\n",
        "*   La métrica a visualizar es el error absoluto medio (medium absolute error en ingles)\n",
        "\n"
      ]
    },
    {
      "cell_type": "code",
      "metadata": {
        "id": "vYCGYDj3OI97"
      },
      "source": [
        "## tu código para compilar la red neuronal para el ejercicio 5 aquí\n",
        "optimizer = tf.keras.optimizers.SGD(learning_rate=1e-8, momentum=0.9)\n",
        "model.compile(loss=tf.keras.losses.Huber(),\n",
        "              optimizer=optimizer,\n",
        "              metrics=['mae']\n",
        "              )"
      ],
      "execution_count": 12,
      "outputs": []
    },
    {
      "cell_type": "markdown",
      "metadata": {
        "collapsed": false,
        "id": "kYcl-m5_ORq0"
      },
      "source": [
        "Para terminar se entrena el modelo previamente diseñado y compilado en los pasos anteriores."
      ]
    },
    {
      "cell_type": "code",
      "metadata": {
        "id": "P8788Rd6YXDm",
        "colab": {
          "base_uri": "https://localhost:8080/"
        },
        "outputId": "a8f44e36-a280-49e7-a711-d3ac426ba2ee"
      },
      "source": [
        "history = model.fit(train_set, epochs=100, callbacks=[lr_schedule])"
      ],
      "execution_count": 13,
      "outputs": [
        {
          "output_type": "stream",
          "text": [
            "Epoch 1/100\n",
            "10/10 [==============================] - 34s 31ms/step - loss: 31.1571 - mae: 31.6550\n",
            "Epoch 2/100\n",
            "10/10 [==============================] - 0s 26ms/step - loss: 30.5778 - mae: 31.0756\n",
            "Epoch 3/100\n",
            "10/10 [==============================] - 0s 26ms/step - loss: 29.6825 - mae: 30.1801\n",
            "Epoch 4/100\n",
            "10/10 [==============================] - 0s 25ms/step - loss: 28.5613 - mae: 29.0586\n",
            "Epoch 5/100\n",
            "10/10 [==============================] - 0s 26ms/step - loss: 27.1974 - mae: 27.6945\n",
            "Epoch 6/100\n",
            "10/10 [==============================] - 0s 27ms/step - loss: 25.5017 - mae: 25.9986\n",
            "Epoch 7/100\n",
            "10/10 [==============================] - 0s 27ms/step - loss: 23.3464 - mae: 23.8429\n",
            "Epoch 8/100\n",
            "10/10 [==============================] - 0s 29ms/step - loss: 20.6147 - mae: 21.1108\n",
            "Epoch 9/100\n",
            "10/10 [==============================] - 0s 28ms/step - loss: 17.3142 - mae: 17.8091\n",
            "Epoch 10/100\n",
            "10/10 [==============================] - 0s 26ms/step - loss: 13.6448 - mae: 14.1371\n",
            "Epoch 11/100\n",
            "10/10 [==============================] - 0s 27ms/step - loss: 10.1272 - mae: 10.6152\n",
            "Epoch 12/100\n",
            "10/10 [==============================] - 0s 27ms/step - loss: 7.6174 - mae: 8.1025\n",
            "Epoch 13/100\n",
            "10/10 [==============================] - 0s 26ms/step - loss: 6.2869 - mae: 6.7711\n",
            "Epoch 14/100\n",
            "10/10 [==============================] - 0s 27ms/step - loss: 5.7015 - mae: 6.1856\n",
            "Epoch 15/100\n",
            "10/10 [==============================] - 0s 27ms/step - loss: 5.3344 - mae: 5.8166\n",
            "Epoch 16/100\n",
            "10/10 [==============================] - 0s 27ms/step - loss: 4.9409 - mae: 5.4206\n",
            "Epoch 17/100\n",
            "10/10 [==============================] - 0s 26ms/step - loss: 4.5578 - mae: 5.0338\n",
            "Epoch 18/100\n",
            "10/10 [==============================] - 0s 29ms/step - loss: 4.2340 - mae: 4.7085\n",
            "Epoch 19/100\n",
            "10/10 [==============================] - 0s 27ms/step - loss: 3.9611 - mae: 4.4360\n",
            "Epoch 20/100\n",
            "10/10 [==============================] - 0s 26ms/step - loss: 3.7448 - mae: 4.2177\n",
            "Epoch 21/100\n",
            "10/10 [==============================] - 0s 26ms/step - loss: 3.5855 - mae: 4.0566\n",
            "Epoch 22/100\n",
            "10/10 [==============================] - 0s 30ms/step - loss: 3.4641 - mae: 3.9344\n",
            "Epoch 23/100\n",
            "10/10 [==============================] - 0s 28ms/step - loss: 3.3711 - mae: 3.8414\n",
            "Epoch 24/100\n",
            "10/10 [==============================] - 0s 30ms/step - loss: 3.2948 - mae: 3.7645\n",
            "Epoch 25/100\n",
            "10/10 [==============================] - 0s 26ms/step - loss: 3.2288 - mae: 3.6978\n",
            "Epoch 26/100\n",
            "10/10 [==============================] - 0s 27ms/step - loss: 3.1662 - mae: 3.6346\n",
            "Epoch 27/100\n",
            "10/10 [==============================] - 0s 27ms/step - loss: 3.1014 - mae: 3.5693\n",
            "Epoch 28/100\n",
            "10/10 [==============================] - 0s 26ms/step - loss: 3.0380 - mae: 3.5053\n",
            "Epoch 29/100\n",
            "10/10 [==============================] - 0s 25ms/step - loss: 2.9716 - mae: 3.4379\n",
            "Epoch 30/100\n",
            "10/10 [==============================] - 0s 28ms/step - loss: 2.9063 - mae: 3.3712\n",
            "Epoch 31/100\n",
            "10/10 [==============================] - 0s 28ms/step - loss: 2.8452 - mae: 3.3098\n",
            "Epoch 32/100\n",
            "10/10 [==============================] - 0s 29ms/step - loss: 2.7842 - mae: 3.2479\n",
            "Epoch 33/100\n",
            "10/10 [==============================] - 0s 29ms/step - loss: 2.7256 - mae: 3.1891\n",
            "Epoch 34/100\n",
            "10/10 [==============================] - 0s 28ms/step - loss: 2.6740 - mae: 3.1379\n",
            "Epoch 35/100\n",
            "10/10 [==============================] - 0s 30ms/step - loss: 2.6212 - mae: 3.0848\n",
            "Epoch 36/100\n",
            "10/10 [==============================] - 0s 27ms/step - loss: 2.5728 - mae: 3.0357\n",
            "Epoch 37/100\n",
            "10/10 [==============================] - 0s 28ms/step - loss: 2.5254 - mae: 2.9877\n",
            "Epoch 38/100\n",
            "10/10 [==============================] - 0s 29ms/step - loss: 2.4800 - mae: 2.9415\n",
            "Epoch 39/100\n",
            "10/10 [==============================] - 0s 28ms/step - loss: 2.4355 - mae: 2.8968\n",
            "Epoch 40/100\n",
            "10/10 [==============================] - 0s 28ms/step - loss: 2.3933 - mae: 2.8541\n",
            "Epoch 41/100\n",
            "10/10 [==============================] - 0s 27ms/step - loss: 2.3523 - mae: 2.8124\n",
            "Epoch 42/100\n",
            "10/10 [==============================] - 0s 27ms/step - loss: 2.3124 - mae: 2.7718\n",
            "Epoch 43/100\n",
            "10/10 [==============================] - 0s 27ms/step - loss: 2.2730 - mae: 2.7315\n",
            "Epoch 44/100\n",
            "10/10 [==============================] - 0s 26ms/step - loss: 2.2338 - mae: 2.6913\n",
            "Epoch 45/100\n",
            "10/10 [==============================] - 0s 27ms/step - loss: 2.1954 - mae: 2.6523\n",
            "Epoch 46/100\n",
            "10/10 [==============================] - 0s 28ms/step - loss: 2.1622 - mae: 2.6190\n",
            "Epoch 47/100\n",
            "10/10 [==============================] - 0s 27ms/step - loss: 2.1313 - mae: 2.5877\n",
            "Epoch 48/100\n",
            "10/10 [==============================] - 0s 28ms/step - loss: 2.1047 - mae: 2.5607\n",
            "Epoch 49/100\n",
            "10/10 [==============================] - 0s 28ms/step - loss: 2.0740 - mae: 2.5300\n",
            "Epoch 50/100\n",
            "10/10 [==============================] - 0s 28ms/step - loss: 2.0481 - mae: 2.5040\n",
            "Epoch 51/100\n",
            "10/10 [==============================] - 0s 27ms/step - loss: 2.0263 - mae: 2.4818\n",
            "Epoch 52/100\n",
            "10/10 [==============================] - 0s 26ms/step - loss: 2.0048 - mae: 2.4598\n",
            "Epoch 53/100\n",
            "10/10 [==============================] - 0s 26ms/step - loss: 1.9897 - mae: 2.4444\n",
            "Epoch 54/100\n",
            "10/10 [==============================] - 0s 26ms/step - loss: 1.9650 - mae: 2.4193\n",
            "Epoch 55/100\n",
            "10/10 [==============================] - 0s 26ms/step - loss: 1.9469 - mae: 2.4008\n",
            "Epoch 56/100\n",
            "10/10 [==============================] - 0s 26ms/step - loss: 1.9247 - mae: 2.3783\n",
            "Epoch 57/100\n",
            "10/10 [==============================] - 0s 26ms/step - loss: 1.9090 - mae: 2.3620\n",
            "Epoch 58/100\n",
            "10/10 [==============================] - 0s 28ms/step - loss: 1.8863 - mae: 2.3394\n",
            "Epoch 59/100\n",
            "10/10 [==============================] - 0s 28ms/step - loss: 1.8594 - mae: 2.3120\n",
            "Epoch 60/100\n",
            "10/10 [==============================] - 0s 28ms/step - loss: 2.1954 - mae: 2.6553\n",
            "Epoch 61/100\n",
            "10/10 [==============================] - 0s 28ms/step - loss: 2.6844 - mae: 3.1553\n",
            "Epoch 62/100\n",
            "10/10 [==============================] - 0s 28ms/step - loss: 3.0855 - mae: 3.5614\n",
            "Epoch 63/100\n",
            "10/10 [==============================] - 0s 28ms/step - loss: 3.5166 - mae: 3.9958\n",
            "Epoch 64/100\n",
            "10/10 [==============================] - 0s 26ms/step - loss: 3.6572 - mae: 4.1382\n",
            "Epoch 65/100\n",
            "10/10 [==============================] - 0s 27ms/step - loss: 4.2069 - mae: 4.6935\n",
            "Epoch 66/100\n",
            "10/10 [==============================] - 0s 27ms/step - loss: 4.3832 - mae: 4.8696\n",
            "Epoch 67/100\n",
            "10/10 [==============================] - 0s 26ms/step - loss: 4.6320 - mae: 5.1198\n",
            "Epoch 68/100\n",
            "10/10 [==============================] - 0s 26ms/step - loss: 4.7017 - mae: 5.1879\n",
            "Epoch 69/100\n",
            "10/10 [==============================] - 0s 27ms/step - loss: 5.0039 - mae: 5.4916\n",
            "Epoch 70/100\n",
            "10/10 [==============================] - 0s 28ms/step - loss: 6.3100 - mae: 6.7942\n",
            "Epoch 71/100\n",
            "10/10 [==============================] - 0s 26ms/step - loss: 11.5386 - mae: 12.0342\n",
            "Epoch 72/100\n",
            "10/10 [==============================] - 0s 27ms/step - loss: 9.2871 - mae: 9.7783\n",
            "Epoch 73/100\n",
            "10/10 [==============================] - 0s 27ms/step - loss: 6.6659 - mae: 7.1451\n",
            "Epoch 74/100\n",
            "10/10 [==============================] - 0s 30ms/step - loss: 6.6515 - mae: 7.1374\n",
            "Epoch 75/100\n",
            "10/10 [==============================] - 0s 28ms/step - loss: 3.6374 - mae: 4.1124\n",
            "Epoch 76/100\n",
            "10/10 [==============================] - 0s 28ms/step - loss: 2.9112 - mae: 3.3796\n",
            "Epoch 77/100\n",
            "10/10 [==============================] - 0s 28ms/step - loss: 2.4320 - mae: 2.8942\n",
            "Epoch 78/100\n",
            "10/10 [==============================] - 0s 26ms/step - loss: 2.6352 - mae: 3.1017\n",
            "Epoch 79/100\n",
            "10/10 [==============================] - 0s 29ms/step - loss: 2.5963 - mae: 3.0610\n",
            "Epoch 80/100\n",
            "10/10 [==============================] - 0s 27ms/step - loss: 2.7179 - mae: 3.1862\n",
            "Epoch 81/100\n",
            "10/10 [==============================] - 0s 28ms/step - loss: 3.3709 - mae: 3.8492\n",
            "Epoch 82/100\n",
            "10/10 [==============================] - 0s 27ms/step - loss: 4.0569 - mae: 4.5421\n",
            "Epoch 83/100\n",
            "10/10 [==============================] - 0s 28ms/step - loss: 4.5658 - mae: 5.0530\n",
            "Epoch 84/100\n",
            "10/10 [==============================] - 0s 29ms/step - loss: 5.0591 - mae: 5.5477\n",
            "Epoch 85/100\n",
            "10/10 [==============================] - 0s 28ms/step - loss: 5.8497 - mae: 6.3418\n",
            "Epoch 86/100\n",
            "10/10 [==============================] - 0s 28ms/step - loss: 6.1936 - mae: 6.6816\n",
            "Epoch 87/100\n",
            "10/10 [==============================] - 0s 28ms/step - loss: 6.9427 - mae: 7.4267\n",
            "Epoch 88/100\n",
            "10/10 [==============================] - 0s 28ms/step - loss: 32.9674 - mae: 33.4649\n",
            "Epoch 89/100\n",
            "10/10 [==============================] - 0s 27ms/step - loss: 36.3931 - mae: 36.8878\n",
            "Epoch 90/100\n",
            "10/10 [==============================] - 0s 28ms/step - loss: 66.8197 - mae: 67.3158\n",
            "Epoch 91/100\n",
            "10/10 [==============================] - 0s 30ms/step - loss: 48.1751 - mae: 48.6751\n",
            "Epoch 92/100\n",
            "10/10 [==============================] - 0s 33ms/step - loss: 52.8663 - mae: 53.3663\n",
            "Epoch 93/100\n",
            "10/10 [==============================] - 0s 28ms/step - loss: 51.7719 - mae: 52.2716\n",
            "Epoch 94/100\n",
            "10/10 [==============================] - 0s 28ms/step - loss: 48.1737 - mae: 48.6695\n",
            "Epoch 95/100\n",
            "10/10 [==============================] - 0s 29ms/step - loss: 28.7783 - mae: 29.2731\n",
            "Epoch 96/100\n",
            "10/10 [==============================] - 0s 27ms/step - loss: 56.6899 - mae: 57.1854\n",
            "Epoch 97/100\n",
            "10/10 [==============================] - 0s 26ms/step - loss: 92.7581 - mae: 93.2581\n",
            "Epoch 98/100\n",
            "10/10 [==============================] - 0s 26ms/step - loss: 92.4061 - mae: 92.9061\n",
            "Epoch 99/100\n",
            "10/10 [==============================] - 0s 28ms/step - loss: 140.4463 - mae: 140.9445\n",
            "Epoch 100/100\n",
            "10/10 [==============================] - 0s 26ms/step - loss: 235.2736 - mae: 235.7736\n"
          ],
          "name": "stdout"
        }
      ]
    },
    {
      "cell_type": "markdown",
      "metadata": {
        "collapsed": false,
        "id": "wryNEsg3OQ-Q"
      },
      "source": [
        "# 6. Actualización del learning rate según los resultados obtenidos del primer entrenamiento de la red neuronal"
      ]
    },
    {
      "cell_type": "markdown",
      "metadata": {
        "collapsed": false,
        "id": "lEtS47TWOd8J"
      },
      "source": [
        "Después del entrenamiento de la red neuronal se ve que learning rate resultante es de 1e-5. Se visualizará gráficamente para entender el motivo por el que se ha usado ese valor. En la gráfica se puede ver cómo el learning rate con el que menos loss hay es 1e-5, y por ese motivo, se debe volver a entrenar la red neuronal con dicho learning rate."
      ]
    },
    {
      "cell_type": "code",
      "metadata": {
        "id": "KpydHm4hYZap",
        "colab": {
          "base_uri": "https://localhost:8080/",
          "height": 290
        },
        "outputId": "0125db98-604c-4d31-f8eb-b85a87889841"
      },
      "source": [
        "plt.semilogx(history.history[\"lr\"], history.history[\"loss\"])\n",
        "plt.axis([1e-8, 1e-4, 0, 60])"
      ],
      "execution_count": 14,
      "outputs": [
        {
          "output_type": "execute_result",
          "data": {
            "text/plain": [
              "(1e-08, 0.0001, 0.0, 60.0)"
            ]
          },
          "metadata": {
            "tags": []
          },
          "execution_count": 14
        },
        {
          "output_type": "display_data",
          "data": {
            "image/png": "[encoded data removed]",
            "text/plain": [
              "<Figure size 432x288 with 1 Axes>"
            ]
          },
          "metadata": {
            "tags": [],
            "needs_background": "light"
          }
        }
      ]
    },
    {
      "cell_type": "markdown",
      "metadata": {
        "collapsed": false,
        "id": "iJCCYtWUOo3R"
      },
      "source": [
        "Se vuelve a inicializar la sesión de entrenamiento y la variable train_set:"
      ]
    },
    {
      "cell_type": "code",
      "metadata": {
        "id": "zRczRPRJO2hr"
      },
      "source": [
        "tf.keras.backend.clear_session()\n",
        "tf.random.set_seed(51)\n",
        "np.random.seed(51)\n",
        "train_set = windowed_dataset(x_train, window_size=60, batch_size=100, shuffle_buffer=shuffle_buffer_size)"
      ],
      "execution_count": 15,
      "outputs": []
    },
    {
      "cell_type": "markdown",
      "metadata": {
        "collapsed": false,
        "id": "WhM4opUcO9W0"
      },
      "source": [
        "**Ejercicio 6 (0.5 puntos)**: Para crear el nuevo modelo, reutiliza la red neuronal diseñada en el ejercicio 4, pero esta vez utilizando 60 filtros en la capa de convolución."
      ]
    },
    {
      "cell_type": "code",
      "metadata": {
        "id": "eGXpMjoxO4eK",
        "colab": {
          "base_uri": "https://localhost:8080/"
        },
        "outputId": "ab4672bc-fba6-44ee-93e2-718729d8482f"
      },
      "source": [
        "## tu código para la red neuronal del ejercicio 6 aquí\n",
        "model = crear_red(60)  \n",
        "model.summary()"
      ],
      "execution_count": 16,
      "outputs": [
        {
          "output_type": "stream",
          "text": [
            "Model: \"sequential\"\n",
            "_________________________________________________________________\n",
            "Layer (type)                 Output Shape              Param #   \n",
            "=================================================================\n",
            "conv1d (Conv1D)              (None, None, 60)          360       \n",
            "_________________________________________________________________\n",
            "lstm (LSTM)                  (None, None, 64)          32000     \n",
            "_________________________________________________________________\n",
            "lstm_1 (LSTM)                (None, None, 64)          33024     \n",
            "_________________________________________________________________\n",
            "dense (Dense)                (None, None, 30)          1950      \n",
            "_________________________________________________________________\n",
            "dense_1 (Dense)              (None, None, 10)          310       \n",
            "_________________________________________________________________\n",
            "dense_2 (Dense)              (None, None, 1)           11        \n",
            "_________________________________________________________________\n",
            "lambda (Lambda)              (None, None, 1)           0         \n",
            "=================================================================\n",
            "Total params: 67,655\n",
            "Trainable params: 67,655\n",
            "Non-trainable params: 0\n",
            "_________________________________________________________________\n"
          ],
          "name": "stdout"
        }
      ]
    },
    {
      "cell_type": "markdown",
      "metadata": {
        "collapsed": false,
        "id": "jd5wr58SPaet"
      },
      "source": [
        "**Ejercicio 7 (0.5 puntos)**: Se debe volver a compilar la red neuronal de manera análoga a la del ejercicio 5, pero esta vez utilizar un learning rate obtenido de la función callback."
      ]
    },
    {
      "cell_type": "code",
      "metadata": {
        "id": "Q0cVmEu5O7UZ"
      },
      "source": [
        "## tu código para compilar la red neuronal para el ejercicio 7 aquí\n",
        "optimizer = tf.keras.optimizers.SGD(learning_rate=1e-5, momentum=0.9)\n",
        "model.compile(loss=tf.keras.losses.Huber(),\n",
        "              optimizer=optimizer,\n",
        "              metrics=['mae']\n",
        "              )"
      ],
      "execution_count": 17,
      "outputs": []
    },
    {
      "cell_type": "code",
      "metadata": {
        "id": "CYrg5kSzYb5i",
        "colab": {
          "base_uri": "https://localhost:8080/"
        },
        "outputId": "a74e69e8-6031-4171-d9a0-04d45d972cb9"
      },
      "source": [
        "history = model.fit(train_set,epochs=150)"
      ],
      "execution_count": 18,
      "outputs": [
        {
          "output_type": "stream",
          "text": [
            "Epoch 1/150\n",
            "25/25 [==============================] - 3s 34ms/step - loss: 8.7358 - mae: 9.2275\n",
            "Epoch 2/150\n",
            "25/25 [==============================] - 1s 16ms/step - loss: 2.7641 - mae: 3.2299\n",
            "Epoch 3/150\n",
            "25/25 [==============================] - 0s 16ms/step - loss: 1.9250 - mae: 2.3793\n",
            "Epoch 4/150\n",
            "25/25 [==============================] - 0s 15ms/step - loss: 1.8234 - mae: 2.2741\n",
            "Epoch 5/150\n",
            "25/25 [==============================] - 0s 15ms/step - loss: 1.7700 - mae: 2.2191\n",
            "Epoch 6/150\n",
            "25/25 [==============================] - 0s 15ms/step - loss: 1.7397 - mae: 2.1882\n",
            "Epoch 7/150\n",
            "25/25 [==============================] - 0s 15ms/step - loss: 1.7193 - mae: 2.1670\n",
            "Epoch 8/150\n",
            "25/25 [==============================] - 1s 16ms/step - loss: 1.6992 - mae: 2.1464\n",
            "Epoch 9/150\n",
            "25/25 [==============================] - 1s 15ms/step - loss: 1.6975 - mae: 2.1446\n",
            "Epoch 10/150\n",
            "25/25 [==============================] - 0s 15ms/step - loss: 1.6693 - mae: 2.1154\n",
            "Epoch 11/150\n",
            "25/25 [==============================] - 0s 15ms/step - loss: 1.6605 - mae: 2.1065\n",
            "Epoch 12/150\n",
            "25/25 [==============================] - 0s 15ms/step - loss: 1.6484 - mae: 2.0940\n",
            "Epoch 13/150\n",
            "25/25 [==============================] - 1s 17ms/step - loss: 1.6441 - mae: 2.0898\n",
            "Epoch 14/150\n",
            "25/25 [==============================] - 1s 16ms/step - loss: 1.6319 - mae: 2.0770\n",
            "Epoch 15/150\n",
            "25/25 [==============================] - 1s 16ms/step - loss: 1.6221 - mae: 2.0665\n",
            "Epoch 16/150\n",
            "25/25 [==============================] - 1s 16ms/step - loss: 1.6171 - mae: 2.0619\n",
            "Epoch 17/150\n",
            "25/25 [==============================] - 1s 16ms/step - loss: 1.6036 - mae: 2.0476\n",
            "Epoch 18/150\n",
            "25/25 [==============================] - 0s 16ms/step - loss: 1.6017 - mae: 2.0457\n",
            "Epoch 19/150\n",
            "25/25 [==============================] - 0s 15ms/step - loss: 1.5993 - mae: 2.0435\n",
            "Epoch 20/150\n",
            "25/25 [==============================] - 0s 15ms/step - loss: 1.6215 - mae: 2.0672\n",
            "Epoch 21/150\n",
            "25/25 [==============================] - 1s 15ms/step - loss: 1.5888 - mae: 2.0330\n",
            "Epoch 22/150\n",
            "25/25 [==============================] - 0s 15ms/step - loss: 1.6043 - mae: 2.0490\n",
            "Epoch 23/150\n",
            "25/25 [==============================] - 0s 15ms/step - loss: 1.5766 - mae: 2.0199\n",
            "Epoch 24/150\n",
            "25/25 [==============================] - 1s 15ms/step - loss: 1.5685 - mae: 2.0114\n",
            "Epoch 25/150\n",
            "25/25 [==============================] - 1s 16ms/step - loss: 1.5704 - mae: 2.0136\n",
            "Epoch 26/150\n",
            "25/25 [==============================] - 0s 15ms/step - loss: 1.5686 - mae: 2.0119\n",
            "Epoch 27/150\n",
            "25/25 [==============================] - 0s 15ms/step - loss: 1.5578 - mae: 2.0005\n",
            "Epoch 28/150\n",
            "25/25 [==============================] - 0s 15ms/step - loss: 1.5555 - mae: 1.9981\n",
            "Epoch 29/150\n",
            "25/25 [==============================] - 0s 15ms/step - loss: 1.5503 - mae: 1.9924\n",
            "Epoch 30/150\n",
            "25/25 [==============================] - 1s 15ms/step - loss: 1.5487 - mae: 1.9907\n",
            "Epoch 31/150\n",
            "25/25 [==============================] - 0s 16ms/step - loss: 1.5458 - mae: 1.9883\n",
            "Epoch 32/150\n",
            "25/25 [==============================] - 0s 16ms/step - loss: 1.5428 - mae: 1.9846\n",
            "Epoch 33/150\n",
            "25/25 [==============================] - 1s 16ms/step - loss: 1.5402 - mae: 1.9824\n",
            "Epoch 34/150\n",
            "25/25 [==============================] - 0s 15ms/step - loss: 1.5401 - mae: 1.9820\n",
            "Epoch 35/150\n",
            "25/25 [==============================] - 1s 16ms/step - loss: 1.5446 - mae: 1.9871\n",
            "Epoch 36/150\n",
            "25/25 [==============================] - 0s 15ms/step - loss: 1.5306 - mae: 1.9720\n",
            "Epoch 37/150\n",
            "25/25 [==============================] - 1s 15ms/step - loss: 1.5370 - mae: 1.9791\n",
            "Epoch 38/150\n",
            "25/25 [==============================] - 1s 16ms/step - loss: 1.5289 - mae: 1.9703\n",
            "Epoch 39/150\n",
            "25/25 [==============================] - 1s 16ms/step - loss: 1.5338 - mae: 1.9759\n",
            "Epoch 40/150\n",
            "25/25 [==============================] - 1s 16ms/step - loss: 1.5228 - mae: 1.9640\n",
            "Epoch 41/150\n",
            "25/25 [==============================] - 1s 15ms/step - loss: 1.5255 - mae: 1.9675\n",
            "Epoch 42/150\n",
            "25/25 [==============================] - 0s 15ms/step - loss: 1.5233 - mae: 1.9646\n",
            "Epoch 43/150\n",
            "25/25 [==============================] - 0s 15ms/step - loss: 1.5295 - mae: 1.9713\n",
            "Epoch 44/150\n",
            "25/25 [==============================] - 0s 15ms/step - loss: 1.5208 - mae: 1.9622\n",
            "Epoch 45/150\n",
            "25/25 [==============================] - 0s 15ms/step - loss: 1.5133 - mae: 1.9542\n",
            "Epoch 46/150\n",
            "25/25 [==============================] - 0s 15ms/step - loss: 1.5143 - mae: 1.9550\n",
            "Epoch 47/150\n",
            "25/25 [==============================] - 0s 15ms/step - loss: 1.5091 - mae: 1.9495\n",
            "Epoch 48/150\n",
            "25/25 [==============================] - 1s 16ms/step - loss: 1.5100 - mae: 1.9507\n",
            "Epoch 49/150\n",
            "25/25 [==============================] - 0s 15ms/step - loss: 1.5166 - mae: 1.9583\n",
            "Epoch 50/150\n",
            "25/25 [==============================] - 1s 15ms/step - loss: 1.5083 - mae: 1.9488\n",
            "Epoch 51/150\n",
            "25/25 [==============================] - 1s 16ms/step - loss: 1.5088 - mae: 1.9497\n",
            "Epoch 52/150\n",
            "25/25 [==============================] - 0s 15ms/step - loss: 1.5053 - mae: 1.9458\n",
            "Epoch 53/150\n",
            "25/25 [==============================] - 1s 16ms/step - loss: 1.5122 - mae: 1.9536\n",
            "Epoch 54/150\n",
            "25/25 [==============================] - 0s 15ms/step - loss: 1.5031 - mae: 1.9432\n",
            "Epoch 55/150\n",
            "25/25 [==============================] - 1s 15ms/step - loss: 1.5025 - mae: 1.9425\n",
            "Epoch 56/150\n",
            "25/25 [==============================] - 1s 16ms/step - loss: 1.5008 - mae: 1.9415\n",
            "Epoch 57/150\n",
            "25/25 [==============================] - 0s 15ms/step - loss: 1.5041 - mae: 1.9449\n",
            "Epoch 58/150\n",
            "25/25 [==============================] - 0s 15ms/step - loss: 1.4995 - mae: 1.9400\n",
            "Epoch 59/150\n",
            "25/25 [==============================] - 1s 16ms/step - loss: 1.4955 - mae: 1.9354\n",
            "Epoch 60/150\n",
            "25/25 [==============================] - 1s 16ms/step - loss: 1.4952 - mae: 1.9352\n",
            "Epoch 61/150\n",
            "25/25 [==============================] - 1s 16ms/step - loss: 1.5022 - mae: 1.9428\n",
            "Epoch 62/150\n",
            "25/25 [==============================] - 1s 16ms/step - loss: 1.4992 - mae: 1.9393\n",
            "Epoch 63/150\n",
            "25/25 [==============================] - 0s 15ms/step - loss: 1.5012 - mae: 1.9415\n",
            "Epoch 64/150\n",
            "25/25 [==============================] - 0s 15ms/step - loss: 1.4923 - mae: 1.9321\n",
            "Epoch 65/150\n",
            "25/25 [==============================] - 0s 15ms/step - loss: 1.5196 - mae: 1.9623\n",
            "Epoch 66/150\n",
            "25/25 [==============================] - 0s 15ms/step - loss: 1.4966 - mae: 1.9367\n",
            "Epoch 67/150\n",
            "25/25 [==============================] - 0s 15ms/step - loss: 1.5007 - mae: 1.9418\n",
            "Epoch 68/150\n",
            "25/25 [==============================] - 0s 15ms/step - loss: 1.4940 - mae: 1.9339\n",
            "Epoch 69/150\n",
            "25/25 [==============================] - 1s 16ms/step - loss: 1.4869 - mae: 1.9261\n",
            "Epoch 70/150\n",
            "25/25 [==============================] - 1s 16ms/step - loss: 1.4895 - mae: 1.9295\n",
            "Epoch 71/150\n",
            "25/25 [==============================] - 1s 16ms/step - loss: 1.4858 - mae: 1.9251\n",
            "Epoch 72/150\n",
            "25/25 [==============================] - 0s 15ms/step - loss: 1.4853 - mae: 1.9247\n",
            "Epoch 73/150\n",
            "25/25 [==============================] - 1s 15ms/step - loss: 1.4868 - mae: 1.9262\n",
            "Epoch 74/150\n",
            "25/25 [==============================] - 1s 16ms/step - loss: 1.4974 - mae: 1.9379\n",
            "Epoch 75/150\n",
            "25/25 [==============================] - 1s 16ms/step - loss: 1.4941 - mae: 1.9344\n",
            "Epoch 76/150\n",
            "25/25 [==============================] - 1s 16ms/step - loss: 1.4852 - mae: 1.9244\n",
            "Epoch 77/150\n",
            "25/25 [==============================] - 1s 16ms/step - loss: 1.4860 - mae: 1.9256\n",
            "Epoch 78/150\n",
            "25/25 [==============================] - 0s 15ms/step - loss: 1.4842 - mae: 1.9234\n",
            "Epoch 79/150\n",
            "25/25 [==============================] - 0s 15ms/step - loss: 1.4807 - mae: 1.9197\n",
            "Epoch 80/150\n",
            "25/25 [==============================] - 1s 15ms/step - loss: 1.4898 - mae: 1.9299\n",
            "Epoch 81/150\n",
            "25/25 [==============================] - 1s 16ms/step - loss: 1.4900 - mae: 1.9303\n",
            "Epoch 82/150\n",
            "25/25 [==============================] - 1s 16ms/step - loss: 1.4790 - mae: 1.9177\n",
            "Epoch 83/150\n",
            "25/25 [==============================] - 1s 17ms/step - loss: 1.4814 - mae: 1.9202\n",
            "Epoch 84/150\n",
            "25/25 [==============================] - 1s 16ms/step - loss: 1.4784 - mae: 1.9171\n",
            "Epoch 85/150\n",
            "25/25 [==============================] - 1s 16ms/step - loss: 1.4847 - mae: 1.9243\n",
            "Epoch 86/150\n",
            "25/25 [==============================] - 1s 16ms/step - loss: 1.4791 - mae: 1.9184\n",
            "Epoch 87/150\n",
            "25/25 [==============================] - 1s 16ms/step - loss: 1.4786 - mae: 1.9179\n",
            "Epoch 88/150\n",
            "25/25 [==============================] - 1s 17ms/step - loss: 1.4862 - mae: 1.9259\n",
            "Epoch 89/150\n",
            "25/25 [==============================] - 0s 15ms/step - loss: 1.4786 - mae: 1.9174\n",
            "Epoch 90/150\n",
            "25/25 [==============================] - 1s 16ms/step - loss: 1.4775 - mae: 1.9166\n",
            "Epoch 91/150\n",
            "25/25 [==============================] - 1s 16ms/step - loss: 1.4737 - mae: 1.9122\n",
            "Epoch 92/150\n",
            "25/25 [==============================] - 0s 15ms/step - loss: 1.4794 - mae: 1.9185\n",
            "Epoch 93/150\n",
            "25/25 [==============================] - 1s 17ms/step - loss: 1.4787 - mae: 1.9179\n",
            "Epoch 94/150\n",
            "25/25 [==============================] - 0s 15ms/step - loss: 1.4780 - mae: 1.9178\n",
            "Epoch 95/150\n",
            "25/25 [==============================] - 0s 16ms/step - loss: 1.4807 - mae: 1.9203\n",
            "Epoch 96/150\n",
            "25/25 [==============================] - 0s 15ms/step - loss: 1.4908 - mae: 1.9316\n",
            "Epoch 97/150\n",
            "25/25 [==============================] - 1s 16ms/step - loss: 1.4728 - mae: 1.9115\n",
            "Epoch 98/150\n",
            "25/25 [==============================] - 1s 16ms/step - loss: 1.4765 - mae: 1.9157\n",
            "Epoch 99/150\n",
            "25/25 [==============================] - 1s 16ms/step - loss: 1.4850 - mae: 1.9247\n",
            "Epoch 100/150\n",
            "25/25 [==============================] - 1s 16ms/step - loss: 1.4751 - mae: 1.9145\n",
            "Epoch 101/150\n",
            "25/25 [==============================] - 1s 16ms/step - loss: 1.4769 - mae: 1.9163\n",
            "Epoch 102/150\n",
            "25/25 [==============================] - 1s 16ms/step - loss: 1.4734 - mae: 1.9124\n",
            "Epoch 103/150\n",
            "25/25 [==============================] - 1s 16ms/step - loss: 1.4698 - mae: 1.9080\n",
            "Epoch 104/150\n",
            "25/25 [==============================] - 1s 15ms/step - loss: 1.4767 - mae: 1.9161\n",
            "Epoch 105/150\n",
            "25/25 [==============================] - 0s 15ms/step - loss: 1.4710 - mae: 1.9096\n",
            "Epoch 106/150\n",
            "25/25 [==============================] - 0s 15ms/step - loss: 1.4745 - mae: 1.9136\n",
            "Epoch 107/150\n",
            "25/25 [==============================] - 0s 15ms/step - loss: 1.4687 - mae: 1.9072\n",
            "Epoch 108/150\n",
            "25/25 [==============================] - 1s 16ms/step - loss: 1.4713 - mae: 1.9105\n",
            "Epoch 109/150\n",
            "25/25 [==============================] - 1s 16ms/step - loss: 1.4796 - mae: 1.9199\n",
            "Epoch 110/150\n",
            "25/25 [==============================] - 1s 16ms/step - loss: 1.4715 - mae: 1.9106\n",
            "Epoch 111/150\n",
            "25/25 [==============================] - 1s 17ms/step - loss: 1.4737 - mae: 1.9136\n",
            "Epoch 112/150\n",
            "25/25 [==============================] - 1s 17ms/step - loss: 1.4727 - mae: 1.9121\n",
            "Epoch 113/150\n",
            "25/25 [==============================] - 1s 16ms/step - loss: 1.4652 - mae: 1.9035\n",
            "Epoch 114/150\n",
            "25/25 [==============================] - 1s 17ms/step - loss: 1.4651 - mae: 1.9032\n",
            "Epoch 115/150\n",
            "25/25 [==============================] - 0s 15ms/step - loss: 1.4664 - mae: 1.9050\n",
            "Epoch 116/150\n",
            "25/25 [==============================] - 1s 16ms/step - loss: 1.4663 - mae: 1.9048\n",
            "Epoch 117/150\n",
            "25/25 [==============================] - 1s 16ms/step - loss: 1.4672 - mae: 1.9059\n",
            "Epoch 118/150\n",
            "25/25 [==============================] - 1s 17ms/step - loss: 1.4655 - mae: 1.9039\n",
            "Epoch 119/150\n",
            "25/25 [==============================] - 1s 16ms/step - loss: 1.4676 - mae: 1.9064\n",
            "Epoch 120/150\n",
            "25/25 [==============================] - 1s 16ms/step - loss: 1.4704 - mae: 1.9099\n",
            "Epoch 121/150\n",
            "25/25 [==============================] - 1s 16ms/step - loss: 1.4629 - mae: 1.9013\n",
            "Epoch 122/150\n",
            "25/25 [==============================] - 1s 15ms/step - loss: 1.4655 - mae: 1.9039\n",
            "Epoch 123/150\n",
            "25/25 [==============================] - 1s 16ms/step - loss: 1.4667 - mae: 1.9055\n",
            "Epoch 124/150\n",
            "25/25 [==============================] - 1s 16ms/step - loss: 1.4681 - mae: 1.9067\n",
            "Epoch 125/150\n",
            "25/25 [==============================] - 0s 15ms/step - loss: 1.4634 - mae: 1.9015\n",
            "Epoch 126/150\n",
            "25/25 [==============================] - 1s 16ms/step - loss: 1.4626 - mae: 1.9008\n",
            "Epoch 127/150\n",
            "25/25 [==============================] - 1s 16ms/step - loss: 1.4648 - mae: 1.9032\n",
            "Epoch 128/150\n",
            "25/25 [==============================] - 1s 16ms/step - loss: 1.4716 - mae: 1.9111\n",
            "Epoch 129/150\n",
            "25/25 [==============================] - 1s 16ms/step - loss: 1.4635 - mae: 1.9021\n",
            "Epoch 130/150\n",
            "25/25 [==============================] - 1s 16ms/step - loss: 1.4634 - mae: 1.9019\n",
            "Epoch 131/150\n",
            "25/25 [==============================] - 1s 16ms/step - loss: 1.4654 - mae: 1.9044\n",
            "Epoch 132/150\n",
            "25/25 [==============================] - 1s 16ms/step - loss: 1.4724 - mae: 1.9121\n",
            "Epoch 133/150\n",
            "25/25 [==============================] - 1s 15ms/step - loss: 1.4651 - mae: 1.9036\n",
            "Epoch 134/150\n",
            "25/25 [==============================] - 1s 16ms/step - loss: 1.4640 - mae: 1.9024\n",
            "Epoch 135/150\n",
            "25/25 [==============================] - 0s 15ms/step - loss: 1.4636 - mae: 1.9024\n",
            "Epoch 136/150\n",
            "25/25 [==============================] - 1s 16ms/step - loss: 1.4661 - mae: 1.9051\n",
            "Epoch 137/150\n",
            "25/25 [==============================] - 0s 16ms/step - loss: 1.4640 - mae: 1.9029\n",
            "Epoch 138/150\n",
            "25/25 [==============================] - 1s 16ms/step - loss: 1.4635 - mae: 1.9020\n",
            "Epoch 139/150\n",
            "25/25 [==============================] - 1s 15ms/step - loss: 1.4615 - mae: 1.8996\n",
            "Epoch 140/150\n",
            "25/25 [==============================] - 1s 15ms/step - loss: 1.4612 - mae: 1.8996\n",
            "Epoch 141/150\n",
            "25/25 [==============================] - 1s 17ms/step - loss: 1.4593 - mae: 1.8974\n",
            "Epoch 142/150\n",
            "25/25 [==============================] - 1s 17ms/step - loss: 1.4579 - mae: 1.8959\n",
            "Epoch 143/150\n",
            "25/25 [==============================] - 1s 16ms/step - loss: 1.4579 - mae: 1.8960\n",
            "Epoch 144/150\n",
            "25/25 [==============================] - 1s 16ms/step - loss: 1.4643 - mae: 1.9033\n",
            "Epoch 145/150\n",
            "25/25 [==============================] - 1s 17ms/step - loss: 1.4631 - mae: 1.9020\n",
            "Epoch 146/150\n",
            "25/25 [==============================] - 1s 17ms/step - loss: 1.4605 - mae: 1.8989\n",
            "Epoch 147/150\n",
            "25/25 [==============================] - 1s 16ms/step - loss: 1.4577 - mae: 1.8956\n",
            "Epoch 148/150\n",
            "25/25 [==============================] - 1s 18ms/step - loss: 1.4763 - mae: 1.9161\n",
            "Epoch 149/150\n",
            "25/25 [==============================] - 1s 17ms/step - loss: 1.4628 - mae: 1.9015\n",
            "Epoch 150/150\n",
            "25/25 [==============================] - 1s 17ms/step - loss: 1.4588 - mae: 1.8970\n"
          ],
          "name": "stdout"
        }
      ]
    },
    {
      "cell_type": "markdown",
      "metadata": {
        "collapsed": false,
        "id": "dE59CkauRD_o"
      },
      "source": [
        "# 7. Predicción de los siguientes valores de la serie temporal"
      ]
    },
    {
      "cell_type": "markdown",
      "metadata": {
        "collapsed": false,
        "id": "ati5x7OfReWH"
      },
      "source": [
        "Para concluir la actividad, se usa el método model_forecast que se ha diseñado utilizando el método de la ventana temporal para hacer el nuevo metodo rnn_forecast con el cual se calcularán los nuevos valores de la serie temporal. Posteriormente, se pinta una gráfica para ver esos resultados y comprobar de forma visual que son correctos. Además, se dan los resultados de esas predicciones en forma númerica, de esta forma, este modelo diseñado en esta actividad podría ser el input de un nuevo algoritmo si fuera necesario."
      ]
    },
    {
      "cell_type": "code",
      "metadata": {
        "id": "RWB79gRyYdvB"
      },
      "source": [
        "rnn_forecast = model_forecast(model, series[..., np.newaxis], window_size)\n",
        "rnn_forecast = rnn_forecast[split_time - window_size:-1, -1, 0]"
      ],
      "execution_count": 19,
      "outputs": []
    },
    {
      "cell_type": "code",
      "metadata": {
        "id": "OrMdV-SnYiCG",
        "colab": {
          "base_uri": "https://localhost:8080/",
          "height": 389
        },
        "outputId": "43fa14e3-cc8c-4655-8b4c-8c9655b18e11"
      },
      "source": [
        "plt.figure(figsize=(10, 6))\n",
        "plot_series(time_valid, x_valid)\n",
        "plot_series(time_valid, rnn_forecast)"
      ],
      "execution_count": 20,
      "outputs": [
        {
          "output_type": "display_data",
          "data": {
            "image/png": "[encoded data removed]",
            "text/plain": [
              "<Figure size 720x432 with 1 Axes>"
            ]
          },
          "metadata": {
            "tags": [],
            "needs_background": "light"
          }
        }
      ]
    },
    {
      "cell_type": "code",
      "metadata": {
        "id": "bpa88mPVYj27",
        "colab": {
          "base_uri": "https://localhost:8080/"
        },
        "outputId": "99640377-a110-4514-8f38-ec04063d36a2"
      },
      "source": [
        "tf.keras.metrics.mean_absolute_error(x_valid, rnn_forecast).numpy()"
      ],
      "execution_count": 21,
      "outputs": [
        {
          "output_type": "execute_result",
          "data": {
            "text/plain": [
              "1.8274426"
            ]
          },
          "metadata": {
            "tags": []
          },
          "execution_count": 21
        }
      ]
    },
    {
      "cell_type": "code",
      "metadata": {
        "id": "r4VPNDrEYmEA",
        "colab": {
          "base_uri": "https://localhost:8080/"
        },
        "outputId": "e0ecd5e5-5442-4c75-c6b2-84885ce1298b"
      },
      "source": [
        "print(rnn_forecast)"
      ],
      "execution_count": 22,
      "outputs": [
        {
          "output_type": "stream",
          "text": [
            "[11.867273  11.260762  12.26314   ... 13.5103035 13.546464  14.575169 ]\n"
          ],
          "name": "stdout"
        }
      ]
    },
    {
      "cell_type": "markdown",
      "metadata": {
        "collapsed": false,
        "id": "46vKm-K1RVrl"
      },
      "source": [
        "# 8. Mostrar gráficamente los resultados.\n",
        "\n",
        "Una vez obtenido el resultado de la actividad, se procede a revisr de forma gráfica el training y validation loss a lo largo de los epochs en este nuevo entrenamiento con el learning rate optimizado."
      ]
    },
    {
      "cell_type": "code",
      "metadata": {
        "id": "YwQvZC6wlaTi"
      },
      "source": [
        "import matplotlib.image  as mpimg\n",
        "import matplotlib.pyplot as plt\n",
        "\n",
        "#-----------------------------------------------------------\n",
        "# Recuperar una lista de resultados de la lista de datos de entrenamiento y pruebas para cada epoch de entrenamiento\n",
        "#-----------------------------------------------------------\n",
        "loss=history.history['loss']\n",
        "\n",
        "epochs=range(len(loss)) # Get number of epochs"
      ],
      "execution_count": 23,
      "outputs": []
    },
    {
      "cell_type": "markdown",
      "metadata": {
        "collapsed": false,
        "id": "CAEJ3vP3lbz9"
      },
      "source": [
        "A continuación se realiza el plot de la pérdida frente a los epochs"
      ]
    },
    {
      "cell_type": "code",
      "metadata": {
        "id": "yKwWOTYCl4Ib",
        "colab": {
          "base_uri": "https://localhost:8080/",
          "height": 329
        },
        "outputId": "352a88b5-c815-438f-8668-a08ca1d1ed1c"
      },
      "source": [
        "#------------------------------------------------\n",
        "# Pérdida de entrenamiento y validación por epoch\n",
        "#------------------------------------------------\n",
        "plt.plot(epochs, loss, 'r')\n",
        "plt.title('Training loss')\n",
        "plt.xlabel(\"Epochs\")\n",
        "plt.ylabel(\"Loss\")\n",
        "plt.legend([\"Loss\"])\n",
        "\n",
        "plt.figure()"
      ],
      "execution_count": 24,
      "outputs": [
        {
          "output_type": "execute_result",
          "data": {
            "text/plain": [
              "<Figure size 432x288 with 0 Axes>"
            ]
          },
          "metadata": {
            "tags": []
          },
          "execution_count": 24
        },
        {
          "output_type": "display_data",
          "data": {
            "image/png": "[encoded data removed]",
            "text/plain": [
              "<Figure size 432x288 with 1 Axes>"
            ]
          },
          "metadata": {
            "tags": [],
            "needs_background": "light"
          }
        },
        {
          "output_type": "display_data",
          "data": {
            "text/plain": [
              "<Figure size 432x288 with 0 Axes>"
            ]
          },
          "metadata": {
            "tags": []
          }
        }
      ]
    },
    {
      "cell_type": "markdown",
      "metadata": {
        "collapsed": false,
        "id": "Xw4817Otl6A6"
      },
      "source": [
        "**Ejercicio 8 (0.5 punto)**: Utilizando las 2 nuevas variables zoomed_loss y zoomed_epochs y con base en el código anterior, hacer el plot del loss frente a los epochs entre los epoch 20 y 150 para ver como va oscilando y no es un proceso lineal como podria parecer según el anterior plot."
      ]
    },
    {
      "cell_type": "code",
      "metadata": {
        "id": "gh6OToWdAggR",
        "colab": {
          "base_uri": "https://localhost:8080/",
          "height": 329
        },
        "outputId": "61bf22d5-15b8-4ea3-aca5-37af0b8b7400"
      },
      "source": [
        "#------------------------------------------------\n",
        "# Pérdida de entrenamiento y validación por epoch con zoom\n",
        "#------------------------------------------------\n",
        "zoomed_loss = loss[20:]\n",
        "zoomed_epochs = range(20,150)\n",
        "#\n",
        "## tu código para el plot con zoom del ejercicio 8 aquí\n",
        "plt.plot(zoomed_epochs, zoomed_loss, 'r')\n",
        "plt.title('Training loss')\n",
        "plt.xlabel(\"Epochs\")\n",
        "plt.ylabel(\"Loss\")\n",
        "plt.legend([\"Loss\"])\n",
        "\n",
        "plt.figure()"
      ],
      "execution_count": 25,
      "outputs": [
        {
          "output_type": "execute_result",
          "data": {
            "text/plain": [
              "<Figure size 432x288 with 0 Axes>"
            ]
          },
          "metadata": {
            "tags": []
          },
          "execution_count": 25
        },
        {
          "output_type": "display_data",
          "data": {
            "image/png": "[encoded data removed]",
            "text/plain": [
              "<Figure size 432x288 with 1 Axes>"
            ]
          },
          "metadata": {
            "tags": [],
            "needs_background": "light"
          }
        },
        {
          "output_type": "display_data",
          "data": {
            "text/plain": [
              "<Figure size 432x288 with 0 Axes>"
            ]
          },
          "metadata": {
            "tags": []
          }
        }
      ]
    }
  ]
}